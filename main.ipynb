{
 "cells": [
  {
   "cell_type": "code",
   "execution_count": 1,
   "metadata": {},
   "outputs": [],
   "source": [
    "import tensorflow as tf"
   ]
  },
  {
   "cell_type": "code",
   "execution_count": 2,
   "metadata": {},
   "outputs": [],
   "source": [
    "import deepchem as dc\n",
    "import rdkit as rdkit\n",
    "import rdkit.Chem as Chem\n",
    "import rdkit.Chem.PandasTools as pt\n",
    "import pandas as pd"
   ]
  },
  {
   "cell_type": "code",
   "execution_count": 3,
   "metadata": {},
   "outputs": [],
   "source": [
    "import numpy as np"
   ]
  },
  {
   "cell_type": "code",
   "execution_count": 4,
   "metadata": {},
   "outputs": [
    {
     "name": "stdout",
     "output_type": "stream",
     "text": [
      "tf version: 2.3.0 \n",
      "GPU avilable?: [PhysicalDevice(name='/physical_device:GPU:0', device_type='GPU')]\n",
      "rdkit version:  2020.09.1\n",
      "DeepChem version 2.4.0-rc1.dev\n"
     ]
    }
   ],
   "source": [
    "print('tf version:', tf.__version__, '\\nGPU avilable?:', tf.config.list_physical_devices('GPU'))\n",
    "print('rdkit version: ', rdkit.__version__)\n",
    "print('DeepChem version', dc.__version__)"
   ]
  },
  {
   "cell_type": "code",
   "execution_count": 5,
   "metadata": {},
   "outputs": [],
   "source": [
    "from feat.simple_mol_graph_conv_featurizer import SimpleMolGraphConvFeaturizer\n",
    "from layers.layers import GraphEncoderLayer\n",
    "from tensorflow.keras import layers"
   ]
  },
  {
   "cell_type": "code",
   "execution_count": 6,
   "metadata": {},
   "outputs": [],
   "source": [
    "data = pd.read_csv('./data/QM9_HAC_5_9_.csv')"
   ]
  },
  {
   "cell_type": "code",
   "execution_count": 7,
   "metadata": {},
   "outputs": [],
   "source": [
    "reduced_data = list(data['SMILES'])\n",
    "import random\n",
    "random.shuffle(reduced_data)"
   ]
  },
  {
   "cell_type": "code",
   "execution_count": 8,
   "metadata": {},
   "outputs": [
    {
     "data": {
      "text/plain": [
       "133837"
      ]
     },
     "execution_count": 8,
     "metadata": {},
     "output_type": "execute_result"
    }
   ],
   "source": [
    "len(reduced_data)"
   ]
  },
  {
   "cell_type": "code",
   "execution_count": 9,
   "metadata": {},
   "outputs": [
    {
     "data": {
      "text/plain": [
       "132432"
      ]
     },
     "execution_count": 9,
     "metadata": {},
     "output_type": "execute_result"
    }
   ],
   "source": [
    "mols = list(filter(lambda x: x is not None, [Chem.MolFromSmiles(x) for x in reduced_data]))\n",
    "len(mols)"
   ]
  },
  {
   "cell_type": "code",
   "execution_count": 10,
   "metadata": {},
   "outputs": [
    {
     "data": {
      "image/png": "[encoded data removed]",
      "text/plain": [
       "<rdkit.Chem.rdchem.Mol at 0x1f027e913a0>"
      ]
     },
     "execution_count": 10,
     "metadata": {},
     "output_type": "execute_result"
    }
   ],
   "source": [
    "mol = mols[2]\n",
    "mol"
   ]
  },
  {
   "cell_type": "code",
   "execution_count": 11,
   "metadata": {},
   "outputs": [],
   "source": [
    "from deepchem.feat.graph_data import GraphData\n",
    "from deepchem.utils.typing import RDKitAtom, RDKitBond, RDKitMol\n",
    "\n",
    "class GraphMatrix():\n",
    "    \"\"\"\n",
    "    Parameters\n",
    "    ----------\n",
    "    node_features: np.ndarray\n",
    "      Node feature matrix with shape [num_nodes, num_node_features]\n",
    "    edge_features: np.ndarray,\n",
    "      Edge feature matrix with shape [num_nodes, num_nodes]\n",
    "    \"\"\"\n",
    "    \n",
    "    bond_labels = [\n",
    "        Chem.rdchem.BondType.ZERO\n",
    "        ,Chem.rdchem.BondType.SINGLE\n",
    "        ,Chem.rdchem.BondType.DOUBLE\n",
    "        ,Chem.rdchem.BondType.TRIPLE\n",
    "        ,Chem.rdchem.BondType.AROMATIC]\n",
    "    bond_encoder = {l: i for i, l in enumerate(bond_labels)}\n",
    "    bond_decoder = {i: l for i, l in enumerate(bond_labels)}\n",
    "\n",
    "    atom_labels = [0, 1, 6, 8, 7, 16, 15, 9, 17] #H,C, O, N, S, P, F, Cl\n",
    "    atom_encoder = {l: i for i, l in enumerate(atom_labels)}\n",
    "    atom_decoder = {i: l for i, l in enumerate(atom_labels)}\n",
    "    \n",
    "    \n",
    "    def __init__(self,adjacency_matrix: np.ndarray, node_features: np.ndarray):\n",
    "        self.adjacency_matrix = adjacency_matrix\n",
    "        self.node_features = node_features\n",
    "\n",
    "def SimpleGraphMatrixFeaturizer(mol: RDKitMol, length: int = 9) -> GraphMatrix:\n",
    "        Chem.Kekulize(mol)\n",
    "        A = np.zeros(shape=(length, length), dtype=np.float32)\n",
    "        bonds = mol.GetBonds()\n",
    "\n",
    "        begin, end = [b.GetBeginAtomIdx() for b in bonds], [b.GetEndAtomIdx() for b in bonds]\n",
    "        bond_type = [GraphMatrix.bond_encoder[b.GetBondType()] for b in bonds]\n",
    "\n",
    "        A[begin, end] = bond_type\n",
    "        A[end, begin] = bond_type\n",
    "\n",
    "        degree = np.sum(A[:mol.GetNumAtoms(), :mol.GetNumAtoms()], axis=-1)\n",
    "        #A = tf.one_hot(A,depth=5, dtype=tf.float32)\n",
    "        #proto_tensor = tf.make_tensor_proto(A)\n",
    "        #A = tf.make_ndarray(proto_tensor)\n",
    "\n",
    "        X = np.array([GraphMatrix.atom_encoder[atom.GetAtomicNum()] for atom in mol.GetAtoms()] + [0] * (length - mol.GetNumAtoms()), dtype=np.int32)\n",
    "        np.reshape(X,(X.shape[0],1))\n",
    "        #X = tf.one_hot(X, depth = 9, dtype=tf.float32)\n",
    "        #proto_tensor = tf.make_tensor_proto(X)\n",
    "        #X = tf.make_ndarray(proto_tensor)\n",
    "        \n",
    "        gm = GraphMatrix(A,X)\n",
    "           \n",
    "        return gm if (degree > 0).all() else None\n",
    "    \n",
    "def SimpleGraphMatrixDefeaturizer(graph_matrix: GraphMatrix) -> RDKitMol:\n",
    "    node_labels = graph_matrix.node_features\n",
    "    edge_labels = graph_matrix.edge_features\n",
    "    \n",
    "    mol = Chem.RWMol()\n",
    "    \n",
    "    for node_label in node_labels:\n",
    "        mol.AddAtom(Chem.Atom(atom_decoder[np.argmax(node_label)]))\n",
    "\n",
    "    for start, end in zip(*np.nonzero(edge_labels)):\n",
    "        if start > end:\n",
    "            mol.AddBond(int(start), int(end), bond_decoder[edge_labels[start, end]])\n",
    "\n",
    "    try:\n",
    "        Chem.SanitizeMol(mol)\n",
    "    except:\n",
    "        mol = None\n",
    "\n",
    "    return mol\n",
    "\n",
    "\n"
   ]
  },
  {
   "cell_type": "code",
   "execution_count": 12,
   "metadata": {},
   "outputs": [],
   "source": [
    "m = SimpleGraphMatrixFeaturizer(mols[1])"
   ]
  },
  {
   "cell_type": "code",
   "execution_count": 35,
   "metadata": {},
   "outputs": [],
   "source": [
    "from tensorflow import keras\n",
    "from deepchem.models.optimizers import ExponentialDecay\n",
    "class MolGAN(dc.models.WGAN):\n",
    "    \n",
    "    def __init__(self\n",
    "                 ,edges: int = 5\n",
    "                 ,vertices:int = 9\n",
    "                 ,nodes: int = 9\n",
    "                 ,embedding_dim: int = 10\n",
    "                 ,dropout_rate: float = 0.\n",
    "                 ,name:str =''\n",
    "                 , **kwargs):\n",
    "\n",
    "        self.edges = edges\n",
    "        self.vertices = vertices\n",
    "        self.nodes =nodes\n",
    "        self.embedding_dim = embedding_dim\n",
    "        self.dropout_rate = dropout_rate\n",
    "        \n",
    "        super(MolGAN, self).__init__(name=name, **kwargs)\n",
    "\n",
    "    def get_noise_input_shape(self):\n",
    "        return (self.embedding_dim,)\n",
    "\n",
    "    def get_data_input_shapes(self):\n",
    "        return [(self.vertices, self.vertices, self.edges),(self.vertices, self.nodes)]\n",
    "\n",
    "    def create_generator(self):\n",
    "        input_layer = layers.Input(shape=(self.embedding_dim,))\n",
    "        x = layers.Dense(128, activation='tanh')(input_layer)\n",
    "        x = layers.Dropout(self.dropout_rate)(x)\n",
    "        x = layers.Dense(256, activation='tanh')(x)\n",
    "        x = layers.Dropout(self.dropout_rate)(x)\n",
    "        x = layers.Dense(512, activation='tanh')(x)\n",
    "        x = layers.Dropout(self.dropout_rate)(x)\n",
    "\n",
    "        #EDGES LOGITS\n",
    "        edges_logits = layers.Dense(units=self.edges*self.vertices*self.vertices, activation=None)(x)\n",
    "        edges_logits = layers.Reshape((self.edges, self.vertices, self.vertices))(edges_logits)\n",
    "        matrix_transpose = layers.Permute((1,3,2))(edges_logits)\n",
    "        edges_logits = (edges_logits + matrix_transpose)/2\n",
    "        edges_logits = layers.Permute((2,3,1))(edges_logits)\n",
    "        edges_logits = layers.Dropout(self.dropout_rate)(edges_logits)\n",
    "\n",
    "        #NODES LOGITS\n",
    "        nodes_logits = layers.Dense(units=(self.vertices * self.nodes), activation=None)(x)\n",
    "        nodes_logits = layers.Reshape((self.vertices, self.nodes))(nodes_logits)\n",
    "        nodes_logits = layers.Dropout(self.dropout_rate)(nodes_logits)\n",
    "        return keras.Model(inputs = input_layer, outputs=[edges_logits, nodes_logits])\n",
    "\n",
    "    def create_discriminator(self):\n",
    "        adjacency_tensor= layers.Input(shape=(self.vertices, self.vertices, self.edges))\n",
    "        node_tensor = layers.Input(shape=(self.vertices, self.nodes))\n",
    "        \n",
    "        graph = GraphEncoderLayer(units = [(128,64),128], dropout_rate= self.dropout_rate, edges=self.edges)([adjacency_tensor,node_tensor])\n",
    "        dense = layers.Dense(units=128, activation='tanh')(graph)\n",
    "        dense = layers.Dropout(self.dropout_rate)(dense)\n",
    "        dense = layers.Dense(units=64, activation='tanh')(dense)\n",
    "        dense = layers.Dropout(self.dropout_rate)(dense)\n",
    "        output = layers.Dense(units=1)(dense)\n",
    "               \n",
    "        return keras.Model(inputs=[adjacency_tensor,node_tensor], outputs=[output])\n",
    "\n",
    "gan = MolGAN(learning_rate=ExponentialDecay(0.001, 0.9, 5000))"
   ]
  },
  {
   "cell_type": "code",
   "execution_count": null,
   "metadata": {},
   "outputs": [],
   "source": []
  },
  {
   "cell_type": "code",
   "execution_count": 52,
   "metadata": {},
   "outputs": [],
   "source": [
    "limited = [SimpleGraphMatrixFeaturizer(x) for x in mols[:1000]]"
   ]
  },
  {
   "cell_type": "code",
   "execution_count": 53,
   "metadata": {},
   "outputs": [],
   "source": [
    "dataset = dc.data.NumpyDataset([x.adjacency_matrix for x in limited],[x.node_features for x in limited])"
   ]
  },
  {
   "cell_type": "code",
   "execution_count": 54,
   "metadata": {},
   "outputs": [
    {
     "data": {
      "text/plain": [
       "[<tf.Tensor 'input_8:0' shape=(None, 9, 9, 5) dtype=float32>,\n",
       " <tf.Tensor 'input_9:0' shape=(None, 9, 9) dtype=float32>]"
      ]
     },
     "execution_count": 54,
     "metadata": {},
     "output_type": "execute_result"
    }
   ],
   "source": [
    "gan.data_input_layers"
   ]
  },
  {
   "cell_type": "code",
   "execution_count": 55,
   "metadata": {},
   "outputs": [
    {
     "name": "stdout",
     "output_type": "stream",
     "text": [
      "Ending global_step 199: generator average loss 22.6086, discriminator average loss -44.4014\n",
      "TIMING: model fitting took 1.644 s\n"
     ]
    }
   ],
   "source": [
    "def iterbatches(epochs):\n",
    "    for i in range(epochs):\n",
    "        for batch in dataset.iterbatches(batch_size=gan.batch_size):\n",
    "            adjacency_tensor = tf.one_hot(batch[0], gan.edges)\n",
    "            node_tesor = tf.one_hot(batch[1], gan.nodes)\n",
    "            yield {gan.data_inputs[0]: adjacency_tensor, gan.data_inputs[1]:node_tesor}\n",
    "gan.fit_gan(iterbatches(10), generator_steps=0.2, checkpoint_interval=5000)"
   ]
  },
  {
   "cell_type": "code",
   "execution_count": 68,
   "metadata": {},
   "outputs": [],
   "source": [
    "e,n = gan.generators[0](gan.get_noise_batch(1), training=False)"
   ]
  },
  {
   "cell_type": "code",
   "execution_count": 71,
   "metadata": {},
   "outputs": [],
   "source": [
    "argmax = tf.one_hot(tf.argmax(e, axis=-1), depth=e.shape[-1], dtype=e.dtype)"
   ]
  },
  {
   "cell_type": "code",
   "execution_count": 72,
   "metadata": {},
   "outputs": [
    {
     "data": {
      "text/plain": [
       "<tf.Tensor: shape=(1, 9, 9, 5), dtype=float32, numpy=\n",
       "array([[[[0., 1., 0., 0., 0.],\n",
       "         [0., 0., 0., 1., 0.],\n",
       "         [0., 1., 0., 0., 0.],\n",
       "         [1., 0., 0., 0., 0.],\n",
       "         [0., 0., 0., 1., 0.],\n",
       "         [0., 1., 0., 0., 0.],\n",
       "         [0., 0., 0., 1., 0.],\n",
       "         [0., 0., 0., 1., 0.],\n",
       "         [0., 0., 0., 0., 1.]],\n",
       "\n",
       "        [[0., 0., 0., 1., 0.],\n",
       "         [0., 0., 0., 1., 0.],\n",
       "         [0., 1., 0., 0., 0.],\n",
       "         [0., 0., 0., 0., 1.],\n",
       "         [0., 0., 1., 0., 0.],\n",
       "         [0., 1., 0., 0., 0.],\n",
       "         [0., 0., 0., 1., 0.],\n",
       "         [0., 0., 0., 1., 0.],\n",
       "         [0., 0., 0., 0., 1.]],\n",
       "\n",
       "        [[0., 1., 0., 0., 0.],\n",
       "         [0., 1., 0., 0., 0.],\n",
       "         [0., 1., 0., 0., 0.],\n",
       "         [0., 1., 0., 0., 0.],\n",
       "         [0., 0., 0., 1., 0.],\n",
       "         [0., 1., 0., 0., 0.],\n",
       "         [0., 1., 0., 0., 0.],\n",
       "         [0., 1., 0., 0., 0.],\n",
       "         [0., 0., 0., 1., 0.]],\n",
       "\n",
       "        [[1., 0., 0., 0., 0.],\n",
       "         [0., 0., 0., 0., 1.],\n",
       "         [0., 1., 0., 0., 0.],\n",
       "         [0., 0., 0., 1., 0.],\n",
       "         [0., 0., 0., 1., 0.],\n",
       "         [0., 0., 1., 0., 0.],\n",
       "         [0., 0., 0., 1., 0.],\n",
       "         [0., 0., 0., 1., 0.],\n",
       "         [0., 0., 0., 0., 1.]],\n",
       "\n",
       "        [[0., 0., 0., 1., 0.],\n",
       "         [0., 0., 1., 0., 0.],\n",
       "         [0., 0., 0., 1., 0.],\n",
       "         [0., 0., 0., 1., 0.],\n",
       "         [0., 0., 1., 0., 0.],\n",
       "         [0., 0., 0., 1., 0.],\n",
       "         [0., 0., 0., 1., 0.],\n",
       "         [0., 0., 0., 1., 0.],\n",
       "         [0., 0., 0., 0., 1.]],\n",
       "\n",
       "        [[0., 1., 0., 0., 0.],\n",
       "         [0., 1., 0., 0., 0.],\n",
       "         [0., 1., 0., 0., 0.],\n",
       "         [0., 0., 1., 0., 0.],\n",
       "         [0., 0., 0., 1., 0.],\n",
       "         [0., 1., 0., 0., 0.],\n",
       "         [0., 0., 0., 1., 0.],\n",
       "         [1., 0., 0., 0., 0.],\n",
       "         [0., 0., 0., 0., 1.]],\n",
       "\n",
       "        [[0., 0., 0., 1., 0.],\n",
       "         [0., 0., 0., 1., 0.],\n",
       "         [0., 1., 0., 0., 0.],\n",
       "         [0., 0., 0., 1., 0.],\n",
       "         [0., 0., 0., 1., 0.],\n",
       "         [0., 0., 0., 1., 0.],\n",
       "         [0., 0., 0., 1., 0.],\n",
       "         [0., 0., 0., 0., 1.],\n",
       "         [0., 0., 0., 1., 0.]],\n",
       "\n",
       "        [[0., 0., 0., 1., 0.],\n",
       "         [0., 0., 0., 1., 0.],\n",
       "         [0., 1., 0., 0., 0.],\n",
       "         [0., 0., 0., 1., 0.],\n",
       "         [0., 0., 0., 1., 0.],\n",
       "         [1., 0., 0., 0., 0.],\n",
       "         [0., 0., 0., 0., 1.],\n",
       "         [0., 0., 0., 1., 0.],\n",
       "         [0., 0., 0., 1., 0.]],\n",
       "\n",
       "        [[0., 0., 0., 0., 1.],\n",
       "         [0., 0., 0., 0., 1.],\n",
       "         [0., 0., 0., 1., 0.],\n",
       "         [0., 0., 0., 0., 1.],\n",
       "         [0., 0., 0., 0., 1.],\n",
       "         [0., 0., 0., 0., 1.],\n",
       "         [0., 0., 0., 1., 0.],\n",
       "         [0., 0., 0., 1., 0.],\n",
       "         [0., 0., 0., 0., 1.]]]], dtype=float32)>"
      ]
     },
     "execution_count": 72,
     "metadata": {},
     "output_type": "execute_result"
    }
   ],
   "source": [
    "argmax"
   ]
  },
  {
   "cell_type": "code",
   "execution_count": 74,
   "metadata": {},
   "outputs": [
    {
     "data": {
      "text/plain": [
       "array([[[1, 3, 1, 0, 3, 1, 3, 3, 4],\n",
       "        [3, 3, 1, 4, 2, 1, 3, 3, 4],\n",
       "        [1, 1, 1, 1, 3, 1, 1, 1, 3],\n",
       "        [0, 4, 1, 3, 3, 2, 3, 3, 4],\n",
       "        [3, 2, 3, 3, 2, 3, 3, 3, 4],\n",
       "        [1, 1, 1, 2, 3, 1, 3, 0, 4],\n",
       "        [3, 3, 1, 3, 3, 3, 3, 4, 3],\n",
       "        [3, 3, 1, 3, 3, 0, 4, 3, 3],\n",
       "        [4, 4, 3, 4, 4, 4, 3, 3, 4]]], dtype=int64)"
      ]
     },
     "execution_count": 74,
     "metadata": {},
     "output_type": "execute_result"
    }
   ],
   "source": [
    "e = np.argmax(argmax, axis=-1)\n",
    "e"
   ]
  },
  {
   "cell_type": "raw",
   "metadata": {},
   "source": [
    "n,e = np.argmax(n, axis=-1), np.argmax(e, axis=-1)"
   ]
  },
  {
   "cell_type": "code",
   "execution_count": null,
   "metadata": {},
   "outputs": [],
   "source": []
  },
  {
   "cell_type": "code",
   "execution_count": null,
   "metadata": {},
   "outputs": [],
   "source": []
  },
  {
   "cell_type": "raw",
   "metadata": {},
   "source": []
  },
  {
   "cell_type": "code",
   "execution_count": null,
   "metadata": {},
   "outputs": [],
   "source": []
  },
  {
   "cell_type": "code",
   "execution_count": null,
   "metadata": {},
   "outputs": [],
   "source": []
  },
  {
   "cell_type": "code",
   "execution_count": null,
   "metadata": {},
   "outputs": [],
   "source": []
  },
  {
   "cell_type": "code",
   "execution_count": null,
   "metadata": {},
   "outputs": [],
   "source": []
  }
 ],
 "metadata": {
  "kernelspec": {
   "display_name": "Python 3",
   "language": "python",
   "name": "python3"
  },
  "language_info": {
   "codemirror_mode": {
    "name": "ipython",
    "version": 3
   },
   "file_extension": ".py",
   "mimetype": "text/x-python",
   "name": "python",
   "nbconvert_exporter": "python",
   "pygments_lexer": "ipython3",
   "version": "3.8.6"
  }
 },
 "nbformat": 4,
 "nbformat_minor": 4
}
