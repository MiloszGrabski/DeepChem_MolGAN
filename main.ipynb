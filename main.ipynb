{
 "cells": [
  {
   "cell_type": "code",
   "execution_count": 1,
   "metadata": {},
   "outputs": [],
   "source": [
    "import tensorflow as tf"
   ]
  },
  {
   "cell_type": "code",
   "execution_count": 2,
   "metadata": {},
   "outputs": [],
   "source": [
    "import deepchem as dc\n",
    "import rdkit as rdkit\n",
    "import rdkit.Chem as Chem\n",
    "import rdkit.Chem.PandasTools as pt\n",
    "import pandas as pd"
   ]
  },
  {
   "cell_type": "code",
   "execution_count": 3,
   "metadata": {},
   "outputs": [],
   "source": [
    "import numpy as np"
   ]
  },
  {
   "cell_type": "code",
   "execution_count": 4,
   "metadata": {},
   "outputs": [
    {
     "name": "stdout",
     "output_type": "stream",
     "text": [
      "tf version: 2.3.0 \n",
      "GPU avilable?: [PhysicalDevice(name='/physical_device:GPU:0', device_type='GPU')]\n",
      "rdkit version:  2020.09.1\n",
      "DeepChem version 2.4.0-rc1.dev\n"
     ]
    }
   ],
   "source": [
    "print('tf version:', tf.__version__, '\\nGPU avilable?:', tf.config.list_physical_devices('GPU'))\n",
    "print('rdkit version: ', rdkit.__version__)\n",
    "print('DeepChem version', dc.__version__)"
   ]
  },
  {
   "cell_type": "code",
   "execution_count": 5,
   "metadata": {},
   "outputs": [],
   "source": [
    "from feat.simple_mol_graph_conv_featurizer import SimpleMolGraphConvFeaturizer"
   ]
  },
  {
   "cell_type": "code",
   "execution_count": 6,
   "metadata": {},
   "outputs": [],
   "source": [
    "data = pd.read_csv('./data/QM9_HAC_5_9_.csv')"
   ]
  },
  {
   "cell_type": "code",
   "execution_count": 7,
   "metadata": {},
   "outputs": [],
   "source": [
    "reduced_data = list(data['SMILES'][:3])"
   ]
  },
  {
   "cell_type": "code",
   "execution_count": 8,
   "metadata": {},
   "outputs": [
    {
     "data": {
      "text/plain": [
       "'N1C=CC=C1'"
      ]
     },
     "execution_count": 8,
     "metadata": {},
     "output_type": "execute_result"
    }
   ],
   "source": [
    "reduced_data[1]"
   ]
  },
  {
   "cell_type": "code",
   "execution_count": 9,
   "metadata": {},
   "outputs": [],
   "source": [
    "mols = [Chem.MolFromSmiles(x) for x in reduced_data]"
   ]
  },
  {
   "cell_type": "code",
   "execution_count": 10,
   "metadata": {},
   "outputs": [
    {
     "data": {
      "image/png": "[encoded data removed]",
      "text/plain": [
       "<rdkit.Chem.rdchem.Mol at 0x225ead082b0>"
      ]
     },
     "execution_count": 10,
     "metadata": {},
     "output_type": "execute_result"
    }
   ],
   "source": [
    "mol = mols[1]\n",
    "mol"
   ]
  },
  {
   "cell_type": "code",
   "execution_count": 90,
   "metadata": {},
   "outputs": [],
   "source": [
    "from deepchem.feat.graph_data import GraphData\n",
    "from deepchem.utils.typing import RDKitAtom, RDKitBond, RDKitMol\n",
    "\n",
    "bond_labels = [\n",
    "    Chem.rdchem.BondType.SINGLE\n",
    "    ,Chem.rdchem.BondType.DOUBLE\n",
    "    ,Chem.rdchem.BondType.TRIPLE\n",
    "    ,Chem.rdchem.BondType.AROMATIC]\n",
    "bond_encoder = {l: i for i, l in enumerate(bond_labels)}\n",
    "bond_decoder = {i: l for i, l in enumerate(bond_labels)}\n",
    "\n",
    "atom_labels = [0, 6, 8, 7, 16, 15, 9, 17] #C, O, N, S, P, F, Cl\n",
    "atom_encoder = {l: i for i, l in enumerate(atom_labels)}\n",
    "atom_decoder = {i: l for i, l in enumerate(atom_labels)}\n",
    "\n",
    "def _bond_features(mol):\n",
    "    bonds = []\n",
    "    for b in mol.GetBonds():\n",
    "        try:\n",
    "            bonds += [bond_encoder[b.GetBondType()]]\n",
    "        except Exception as e:\n",
    "            raise ValueError('Unsupported bond type detected', e.args[0])\n",
    "    # depth is equal to encoding lenght == number of bond types\n",
    "    a = tf.one_hot(bonds, depth=4, dtype=tf.float32)\n",
    "    #convert to np.ndarray to comply with GraphData object structure\n",
    "    proto_tensor = tf.make_tensor_proto(a)\n",
    "    return tf.make_ndarray(proto_tensor)\n",
    "\n",
    "def _atom_features(mol):\n",
    "    try:\n",
    "        atoms = [atom_encoder[atom.GetAtomicNum()] for atom in mol.GetAtoms()]\n",
    "        print(atoms)\n",
    "    except Exception as e:\n",
    "        raise ValueError('Unsupported atom type detected', e.args[0])  \n",
    "    # depth is equal to encoding lenght == number of atom types\n",
    "    a = tf.one_hot(atoms, depth=8, dtype=tf.float32)\n",
    "    #convert to np.ndarray to comply with GraphData object structure\n",
    "    proto_tensor = tf.make_tensor_proto(a)\n",
    "    return tf.make_ndarray(proto_tensor)\n",
    "\n",
    "def _bond_indices(mol):\n",
    "    src, dest = [], []\n",
    "    for bond in mol.GetBonds():\n",
    "        # add edge list considering a directed graph\n",
    "        start, end = bond.GetBeginAtomIdx(), bond.GetEndAtomIdx()\n",
    "        src += [start]\n",
    "        dest += [end]\n",
    "    return np.asarray([src, dest], dtype=np.int)\n",
    "\n",
    "def SimpleGraphFeaturizer(mol:RDKitMol, kekulize:bool = True) -> GraphData:\n",
    "    #needs to be done otherwise going back from graph to molecule will not work for compounds like pyrrole\n",
    "    if kekulize:\n",
    "        Chem.Kekulize(mol)\n",
    "    return GraphData(node_features=_atom_features(mol), edge_index=_bond_indices(mol), edge_features=_bond_features(mol))\n",
    "\n",
    "def SimpleGraphDefeaturizer(graph_data : GraphData, sanitize:bool = True) -> RDKitMol:\n",
    "    node_features = graph_data.node_features\n",
    "    bond_features = graph_data.edge_features\n",
    "    bond_indices = graph_data.edge_index\n",
    "    \n",
    "    mol = Chem.RWMol()\n",
    "    for feature in node_features:\n",
    "        code = np.argmax(feature, axis=0)\n",
    "        mol.AddAtom(Chem.Atom(atom_decoder[code]))\n",
    "    \n",
    "    #to get start and end of the bond\n",
    "    bond_indices = np.transpose(bond_indices)\n",
    "    #to get index from one-hot representation\n",
    "    bond_features = np.argmax(bond_features, axis=1)\n",
    "\n",
    "    for bond in zip(bond_indices, bond_features):\n",
    "        bond_position = bond[0]\n",
    "        bond_type = bond[1]\n",
    "        mol.AddBond(int(bond_position[0]), int(bond_position[1]), bond_decoder[bond_type])\n",
    "        \n",
    "    if sanitize:\n",
    "        try:\n",
    "            Chem.SanitizeMol(mol)\n",
    "        except:\n",
    "            return None\n",
    "    return mol"
   ]
  },
  {
   "cell_type": "code",
   "execution_count": 91,
   "metadata": {},
   "outputs": [
    {
     "name": "stdout",
     "output_type": "stream",
     "text": [
      "[3, 1, 1, 1, 1]\n"
     ]
    }
   ],
   "source": [
    "g = SimpleGraphFeaturizer(mol)"
   ]
  },
  {
   "cell_type": "code",
   "execution_count": 92,
   "metadata": {},
   "outputs": [
    {
     "data": {
      "text/plain": [
       "array([[0., 0., 0., 1., 0., 0., 0., 0.],\n",
       "       [0., 1., 0., 0., 0., 0., 0., 0.],\n",
       "       [0., 1., 0., 0., 0., 0., 0., 0.],\n",
       "       [0., 1., 0., 0., 0., 0., 0., 0.],\n",
       "       [0., 1., 0., 0., 0., 0., 0., 0.]], dtype=float32)"
      ]
     },
     "execution_count": 92,
     "metadata": {},
     "output_type": "execute_result"
    }
   ],
   "source": [
    "g.node_features"
   ]
  },
  {
   "cell_type": "code",
   "execution_count": 93,
   "metadata": {},
   "outputs": [
    {
     "data": {
      "text/plain": [
       "array([[1., 0., 0., 0.],\n",
       "       [0., 1., 0., 0.],\n",
       "       [1., 0., 0., 0.],\n",
       "       [0., 1., 0., 0.],\n",
       "       [1., 0., 0., 0.]], dtype=float32)"
      ]
     },
     "execution_count": 93,
     "metadata": {},
     "output_type": "execute_result"
    }
   ],
   "source": [
    "g.edge_features"
   ]
  },
  {
   "cell_type": "code",
   "execution_count": 94,
   "metadata": {},
   "outputs": [
    {
     "data": {
      "text/plain": [
       "array([[0, 1, 2, 3, 4],\n",
       "       [1, 2, 3, 4, 0]])"
      ]
     },
     "execution_count": 94,
     "metadata": {},
     "output_type": "execute_result"
    }
   ],
   "source": [
    "g.edge_index"
   ]
  },
  {
   "cell_type": "code",
   "execution_count": 95,
   "metadata": {},
   "outputs": [],
   "source": [
    "new_mol = SimpleGraphDefeaturizer(g)"
   ]
  },
  {
   "cell_type": "code",
   "execution_count": 96,
   "metadata": {},
   "outputs": [
    {
     "data": {
      "image/png": "[encoded data removed]",
      "text/plain": [
       "<rdkit.Chem.rdchem.RWMol at 0x225bd118070>"
      ]
     },
     "execution_count": 96,
     "metadata": {},
     "output_type": "execute_result"
    }
   ],
   "source": [
    "new_mol"
   ]
  },
  {
   "cell_type": "code",
   "execution_count": null,
   "metadata": {},
   "outputs": [],
   "source": []
  },
  {
   "cell_type": "code",
   "execution_count": null,
   "metadata": {},
   "outputs": [],
   "source": []
  },
  {
   "cell_type": "code",
   "execution_count": null,
   "metadata": {},
   "outputs": [],
   "source": []
  },
  {
   "cell_type": "code",
   "execution_count": null,
   "metadata": {},
   "outputs": [],
   "source": []
  },
  {
   "cell_type": "code",
   "execution_count": null,
   "metadata": {},
   "outputs": [],
   "source": []
  }
 ],
 "metadata": {
  "kernelspec": {
   "display_name": "Python 3",
   "language": "python",
   "name": "python3"
  },
  "language_info": {
   "codemirror_mode": {
    "name": "ipython",
    "version": 3
   },
   "file_extension": ".py",
   "mimetype": "text/x-python",
   "name": "python",
   "nbconvert_exporter": "python",
   "pygments_lexer": "ipython3",
   "version": "3.8.6"
  }
 },
 "nbformat": 4,
 "nbformat_minor": 4
}
