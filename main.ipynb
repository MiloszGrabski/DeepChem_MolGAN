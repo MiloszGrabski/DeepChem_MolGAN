{
 "cells": [
  {
   "cell_type": "code",
   "execution_count": 1,
   "metadata": {},
   "outputs": [],
   "source": [
    "import tensorflow as tf"
   ]
  },
  {
   "cell_type": "code",
   "execution_count": 2,
   "metadata": {},
   "outputs": [],
   "source": [
    "import deepchem as dc\n",
    "import rdkit as rdkit\n",
    "import rdkit.Chem as Chem\n",
    "import rdkit.Chem.PandasTools as pt\n",
    "import pandas as pd"
   ]
  },
  {
   "cell_type": "code",
   "execution_count": 3,
   "metadata": {},
   "outputs": [],
   "source": [
    "import numpy as np"
   ]
  },
  {
   "cell_type": "code",
   "execution_count": 4,
   "metadata": {},
   "outputs": [
    {
     "name": "stdout",
     "output_type": "stream",
     "text": [
      "tf version: 2.3.0 \n",
      "GPU avilable?: [PhysicalDevice(name='/physical_device:GPU:0', device_type='GPU')]\n",
      "rdkit version:  2020.09.1\n",
      "DeepChem version 2.4.0-rc1.dev\n"
     ]
    }
   ],
   "source": [
    "print('tf version:', tf.__version__, '\\nGPU avilable?:', tf.config.list_physical_devices('GPU'))\n",
    "print('rdkit version: ', rdkit.__version__)\n",
    "print('DeepChem version', dc.__version__)"
   ]
  },
  {
   "cell_type": "code",
   "execution_count": 39,
   "metadata": {},
   "outputs": [],
   "source": [
    "from feat.simple_mol_graph_conv_featurizer import SimpleMolGraphConvFeaturizer"
   ]
  },
  {
   "cell_type": "code",
   "execution_count": 40,
   "metadata": {},
   "outputs": [],
   "source": [
    "data = pd.read_csv('./data/QM9_HAC_5_9_.csv')"
   ]
  },
  {
   "cell_type": "code",
   "execution_count": 58,
   "metadata": {},
   "outputs": [],
   "source": [
    "reduced_data = list(data['SMILES'])\n",
    "import random\n",
    "random.shuffle(reduced_data)"
   ]
  },
  {
   "cell_type": "code",
   "execution_count": 62,
   "metadata": {},
   "outputs": [
    {
     "data": {
      "text/plain": [
       "133837"
      ]
     },
     "execution_count": 62,
     "metadata": {},
     "output_type": "execute_result"
    }
   ],
   "source": [
    "len(reduced_data)"
   ]
  },
  {
   "cell_type": "code",
   "execution_count": 63,
   "metadata": {},
   "outputs": [
    {
     "data": {
      "text/plain": [
       "132432"
      ]
     },
     "execution_count": 63,
     "metadata": {},
     "output_type": "execute_result"
    }
   ],
   "source": [
    "mols = list(filter(lambda x: x is not None, [Chem.MolFromSmiles(x) for x in reduced_data]))\n",
    "len(mols)"
   ]
  },
  {
   "cell_type": "code",
   "execution_count": 65,
   "metadata": {},
   "outputs": [
    {
     "data": {
      "image/png": "[encoded data removed]",
      "text/plain": [
       "<rdkit.Chem.rdchem.Mol at 0x24569fb3210>"
      ]
     },
     "execution_count": 65,
     "metadata": {},
     "output_type": "execute_result"
    }
   ],
   "source": [
    "mol = mols[2]\n",
    "mol"
   ]
  },
  {
   "cell_type": "code",
   "execution_count": 11,
   "metadata": {},
   "outputs": [],
   "source": [
    "from deepchem.feat.graph_data import GraphData\n",
    "from deepchem.utils.typing import RDKitAtom, RDKitBond, RDKitMol\n",
    "\n",
    "bond_labels = [\n",
    "    Chem.rdchem.BondType.ZERO\n",
    "    ,Chem.rdchem.BondType.SINGLE\n",
    "    ,Chem.rdchem.BondType.DOUBLE\n",
    "    ,Chem.rdchem.BondType.TRIPLE\n",
    "    ,Chem.rdchem.BondType.AROMATIC]\n",
    "bond_encoder = {l: i for i, l in enumerate(bond_labels)}\n",
    "bond_decoder = {i: l for i, l in enumerate(bond_labels)}\n",
    "\n",
    "atom_labels = [0, 1, 6, 8, 7, 16, 15, 9, 17] #H,C, O, N, S, P, F, Cl\n",
    "atom_encoder = {l: i for i, l in enumerate(atom_labels)}\n",
    "atom_decoder = {i: l for i, l in enumerate(atom_labels)}\n",
    "\n",
    "def _bond_features(mol):\n",
    "    bonds = []\n",
    "    for b in mol.GetBonds():\n",
    "        try:\n",
    "            bonds += [bond_encoder[b.GetBondType()]]\n",
    "        except Exception as e:\n",
    "            raise ValueError('Unsupported bond type detected', e.args[0])\n",
    "    # depth is equal to encoding lenght == number of bond types\n",
    "    a = tf.one_hot(bonds, depth=5, dtype=tf.float32)\n",
    "    #convert to np.ndarray to comply with GraphData object structure\n",
    "    proto_tensor = tf.make_tensor_proto(a)\n",
    "    return tf.make_ndarray(proto_tensor)\n",
    "\n",
    "def _atom_features(mol):\n",
    "    try:\n",
    "        atoms = [atom_encoder[atom.GetAtomicNum()] for atom in mol.GetAtoms()]\n",
    "        print(atoms)\n",
    "    except Exception as e:\n",
    "        raise ValueError('Unsupported atom type detected', e.args[0])  \n",
    "    # depth is equal to encoding lenght == number of atom types\n",
    "    a = tf.one_hot(atoms, depth=9, dtype=tf.float32)\n",
    "    #convert to np.ndarray to comply with GraphData object structure\n",
    "    proto_tensor = tf.make_tensor_proto(a)\n",
    "    return tf.make_ndarray(proto_tensor)\n",
    "\n",
    "def _bond_indices(mol):\n",
    "    src, dest = [], []\n",
    "    for bond in mol.GetBonds():\n",
    "        # add edge list considering a directed graph\n",
    "        start, end = bond.GetBeginAtomIdx(), bond.GetEndAtomIdx()\n",
    "        src += [start]\n",
    "        dest += [end]\n",
    "    return np.asarray([src, dest], dtype=np.int)\n",
    "\n",
    "def SimpleGraphDataFeaturizer(mol:RDKitMol, kekulize:bool = True) -> GraphData:\n",
    "    #needs to be done otherwise going back from graph to molecule will not work for compounds like pyrrole\n",
    "    if kekulize:\n",
    "        Chem.Kekulize(mol)\n",
    "    return GraphData(node_features=_atom_features(mol), edge_index=_bond_indices(mol), edge_features=_bond_features(mol))\n",
    "\n",
    "def SimpleGraphDataDefeaturizer(graph_data : GraphData, sanitize:bool = True) -> RDKitMol:\n",
    "    node_features = graph_data.node_features\n",
    "    bond_features = graph_data.edge_features\n",
    "    bond_indices = graph_data.edge_index\n",
    "    \n",
    "    mol = Chem.RWMol()\n",
    "    for feature in node_features:\n",
    "        code = np.argmax(feature, axis=0)\n",
    "        mol.AddAtom(Chem.Atom(atom_decoder[code]))\n",
    "    \n",
    "    #to get start and end of the bond\n",
    "    bond_indices = np.transpose(bond_indices)\n",
    "    #to get index from one-hot representation\n",
    "    bond_features = np.argmax(bond_features, axis=1)\n",
    "\n",
    "    for bond in zip(bond_indices, bond_features):\n",
    "        bond_position = bond[0]\n",
    "        bond_type = bond[1]\n",
    "        mol.AddBond(int(bond_position[0]), int(bond_position[1]), bond_decoder[bond_type])\n",
    "        \n",
    "    if sanitize:\n",
    "        try:\n",
    "            Chem.SanitizeMol(mol)\n",
    "        except:\n",
    "            return None\n",
    "    return mol\n",
    "\n",
    "\n",
    "class GraphMatrix():\n",
    "    \"\"\"\n",
    "    Parameters\n",
    "    ----------\n",
    "    node_features: np.ndarray\n",
    "      Node feature matrix with shape [num_nodes, num_node_features]\n",
    "    edge_features: np.ndarray,\n",
    "      Edge feature matrix with shape [num_nodes, num_nodes]\n",
    "    \"\"\"\n",
    "    def __init__(self,node_features: np.ndarray, edge_features: np.ndarray):\n",
    "        self.node_features = node_features\n",
    "        self.edge_features = edge_features\n",
    "\n",
    "        \n",
    "\n",
    "def SimpleGraphMatrixFeaturizer(mol: RDKitMol) -> GraphMatrix:\n",
    "        Chem.Kekulize(mol)\n",
    "        length = len(mol.GetAtoms())\n",
    "        A = np.zeros(shape=(length, length), dtype=np.float32)\n",
    "        bonds = mol.GetBonds()\n",
    "\n",
    "        begin, end = [b.GetBeginAtomIdx() for b in bonds], [b.GetEndAtomIdx() for b in bonds]\n",
    "        bond_type = [bond_encoder[b.GetBondType()] for b in bonds]\n",
    "\n",
    "        A[begin, end] = bond_type\n",
    "        A[end, begin] = bond_type\n",
    "\n",
    "        degree = np.sum(A[:mol.GetNumAtoms(), :mol.GetNumAtoms()], axis=-1)\n",
    "\n",
    "        X = np.array([atom_encoder[atom.GetAtomicNum()] for atom in mol.GetAtoms()], dtype=np.int32)\n",
    "        X = tf.one_hot(X, depth = 9, dtype=tf.float32)\n",
    "        proto_tensor = tf.make_tensor_proto(X)\n",
    "        X = tf.make_ndarray(proto_tensor)\n",
    "        \n",
    "        gm = GraphMatrix(X,A)\n",
    "    \n",
    "        return gm if (degree > 0).all() else None\n",
    "    \n",
    "def SimpleGraphMatrixDefeaturizer(graph_matrix: GraphMatrix) -> RDKitMol:\n",
    "    node_labels = graph_matrix.node_features\n",
    "    edge_labels = graph_matrix.edge_features\n",
    "    \n",
    "    mol = Chem.RWMol()\n",
    "    \n",
    "    for node_label in node_labels:\n",
    "        mol.AddAtom(Chem.Atom(atom_decoder[np.argmax(node_label)]))\n",
    "\n",
    "    for start, end in zip(*np.nonzero(edge_labels)):\n",
    "        if start > end:\n",
    "            mol.AddBond(int(start), int(end), bond_decoder[edge_labels[start, end]])\n",
    "\n",
    "    try:\n",
    "        Chem.SanitizeMol(mol)\n",
    "    except:\n",
    "        mol = None\n",
    "\n",
    "    return mol\n",
    "\n",
    "\n"
   ]
  },
  {
   "cell_type": "code",
   "execution_count": 12,
   "metadata": {},
   "outputs": [],
   "source": [
    "m = SimpleGraphMatrixFeaturizer(mol)"
   ]
  },
  {
   "cell_type": "code",
   "execution_count": 13,
   "metadata": {},
   "outputs": [
    {
     "data": {
      "text/plain": [
       "array([[0., 1., 0., 0., 1.],\n",
       "       [1., 0., 2., 0., 0.],\n",
       "       [0., 2., 0., 1., 0.],\n",
       "       [0., 0., 1., 0., 2.],\n",
       "       [1., 0., 0., 2., 0.]], dtype=float32)"
      ]
     },
     "execution_count": 13,
     "metadata": {},
     "output_type": "execute_result"
    }
   ],
   "source": [
    "m.edge_features"
   ]
  },
  {
   "cell_type": "code",
   "execution_count": 14,
   "metadata": {},
   "outputs": [
    {
     "data": {
      "text/plain": [
       "array([[0., 0., 0., 0., 1., 0., 0., 0., 0.],\n",
       "       [0., 0., 1., 0., 0., 0., 0., 0., 0.],\n",
       "       [0., 0., 1., 0., 0., 0., 0., 0., 0.],\n",
       "       [0., 0., 1., 0., 0., 0., 0., 0., 0.],\n",
       "       [0., 0., 1., 0., 0., 0., 0., 0., 0.]], dtype=float32)"
      ]
     },
     "execution_count": 14,
     "metadata": {},
     "output_type": "execute_result"
    }
   ],
   "source": [
    "m.node_features"
   ]
  },
  {
   "cell_type": "code",
   "execution_count": 15,
   "metadata": {},
   "outputs": [],
   "source": [
    "mol2 = SimpleGraphMatrixDefeaturizer(m)"
   ]
  },
  {
   "cell_type": "code",
   "execution_count": 16,
   "metadata": {},
   "outputs": [
    {
     "data": {
      "image/png": "[encoded data removed]",
      "text/plain": [
       "<rdkit.Chem.rdchem.RWMol at 0x243a7e98370>"
      ]
     },
     "execution_count": 16,
     "metadata": {},
     "output_type": "execute_result"
    }
   ],
   "source": [
    "mol2"
   ]
  },
  {
   "cell_type": "code",
   "execution_count": 66,
   "metadata": {},
   "outputs": [],
   "source": [
    "wf = dc.feat.WeaveFeaturizer()"
   ]
  },
  {
   "cell_type": "code",
   "execution_count": 67,
   "metadata": {},
   "outputs": [],
   "source": [
    "wm = wf.featurize(mols)"
   ]
  },
  {
   "cell_type": "code",
   "execution_count": 71,
   "metadata": {},
   "outputs": [
    {
     "name": "stdout",
     "output_type": "stream",
     "text": [
      "5\n"
     ]
    }
   ],
   "source": [
    "print(wm[1].get_num_atoms())"
   ]
  },
  {
   "cell_type": "code",
   "execution_count": null,
   "metadata": {},
   "outputs": [],
   "source": []
  },
  {
   "cell_type": "code",
   "execution_count": 69,
   "metadata": {},
   "outputs": [
    {
     "data": {
      "text/plain": [
       "7"
      ]
     },
     "execution_count": 69,
     "metadata": {},
     "output_type": "execute_result"
    }
   ],
   "source": [
    "len(mols[1000].GetAtoms())"
   ]
  },
  {
   "cell_type": "code",
   "execution_count": null,
   "metadata": {},
   "outputs": [],
   "source": []
  }
 ],
 "metadata": {
  "kernelspec": {
   "display_name": "Python 3",
   "language": "python",
   "name": "python3"
  },
  "language_info": {
   "codemirror_mode": {
    "name": "ipython",
    "version": 3
   },
   "file_extension": ".py",
   "mimetype": "text/x-python",
   "name": "python",
   "nbconvert_exporter": "python",
   "pygments_lexer": "ipython3",
   "version": "3.8.6"
  }
 },
 "nbformat": 4,
 "nbformat_minor": 4
}
