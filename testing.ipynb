{
 "cells": [
  {
   "cell_type": "code",
   "execution_count": 4,
   "metadata": {},
   "outputs": [
    {
     "name": "stdout",
     "output_type": "stream",
     "text": [
      "ERROR! Session/line number was not unique in database. History logging moved to new session 1621\n"
     ]
    }
   ],
   "source": [
    "import tensorflow as tf\n",
    "import deepchem as dc\n",
    "import rdkit as rdkit\n",
    "import rdkit.Chem as Chem\n",
    "import rdkit.Chem.PandasTools as pt\n",
    "import pandas as pd\n",
    "import numpy as np"
   ]
  },
  {
   "cell_type": "code",
   "execution_count": null,
   "metadata": {},
   "outputs": [],
   "source": [
    "data = pd.read_csv('./data/QM9_HAC_5_9_.csv')\n",
    "reduced_data = list(data['SMILES'])\n",
    "import random\n",
    "random.shuffle(reduced_data)\n",
    "mols = list(filter(lambda x: x is not None, [Chem.MolFromSmiles(x) for x in reduced_data]))\n",
    "print('how many molecules obtained from smiles: ', len(mols))"
   ]
  },
  {
   "cell_type": "code",
   "execution_count": null,
   "metadata": {},
   "outputs": [],
   "source": [
    "from feat.molgan_featurizer import MolGanFeaturizer"
   ]
  },
  {
   "cell_type": "code",
   "execution_count": null,
   "metadata": {},
   "outputs": [],
   "source": [
    "#create featurizer\n",
    "feat = MolGanFeaturizer()\n",
    "#featurize molecules\n",
    "limited = feat.featurize(mols)\n",
    "#Remove empty objects\n",
    "limited = list(filter(lambda x: x is not None, limited))"
   ]
  },
  {
   "cell_type": "code",
   "execution_count": null,
   "metadata": {},
   "outputs": [],
   "source": [
    "#create dataset\n",
    "dataset = dc.data.NumpyDataset([x.adjacency_matrix for x in limited],[x.node_features for x in limited])"
   ]
  },
  {
   "cell_type": "code",
   "execution_count": null,
   "metadata": {},
   "outputs": [],
   "source": [
    "from models.molgan import MolGAN\n",
    "from deepchem.models.optimizers import ExponentialDecay\n",
    "#create model\n",
    "gan = MolGAN(learning_rate=ExponentialDecay(0.001, 0.9, 5000))"
   ]
  },
  {
   "cell_type": "code",
   "execution_count": null,
   "metadata": {},
   "outputs": [],
   "source": [
    "def iterbatches(epochs):\n",
    "    for i in range(epochs):\n",
    "        for batch in dataset.iterbatches(batch_size=gan.batch_size, pad_batches=True):\n",
    "            adjacency_tensor = tf.one_hot(batch[0], gan.edges)\n",
    "            node_tesor = tf.one_hot(batch[1], gan.nodes)\n",
    "            yield {gan.data_inputs[0]: adjacency_tensor, gan.data_inputs[1]:node_tesor}\n",
    "#train model\n",
    "gan.fit_gan(iterbatches(10), generator_steps=0.2, checkpoint_interval=5000)"
   ]
  },
  {
   "cell_type": "code",
   "execution_count": null,
   "metadata": {},
   "outputs": [],
   "source": [
    "#generat prediced sample\n",
    "g = gan.predict_gan_generator(1000)\n",
    "\n",
    "#convert graphs to RDKitmolecules\n",
    "nmols = feat.defeaturize(g)\n",
    "print(\"{} molecules generated\".format(len(nmols)))\n",
    "\n",
    "#remove invalid moles\n",
    "nmols = list(filter(lambda x: x is not None, nmols))\n",
    "print (\"{} valid molecules\".format(len(nmols)))\n",
    "\n",
    "#get unique molecules\n",
    "nmols = [Chem.MolFromSmiles(x) for x in list(set([Chem.MolToSmiles(z) for z in nmols]))]\n",
    "print(\"{} unique molecules\".format(len(nmols)))\n",
    "\n",
    "#display unique molecules\n",
    "Chem.Draw.MolsToGridImage(nmols)"
   ]
  }
 ],
 "metadata": {
  "kernelspec": {
   "display_name": "Python 3",
   "language": "python",
   "name": "python3"
  },
  "language_info": {
   "codemirror_mode": {
    "name": "ipython",
    "version": 3
   },
   "file_extension": ".py",
   "mimetype": "text/x-python",
   "name": "python",
   "nbconvert_exporter": "python",
   "pygments_lexer": "ipython3",
   "version": "3.8.6"
  }
 },
 "nbformat": 4,
 "nbformat_minor": 4
}
